{
 "cells": [
  {
   "cell_type": "markdown",
   "metadata": {},
   "source": [
    "# Modelling fluid inclusion stretching during stalling\n",
    "- This notebook shows how to model the stretching of CO2 dominated fluid inclusions in olivine using python tool RelaxiFI (DeVitre and Wieser, 2023; EarthArXiv), implemented in DiadFit. Note that this tool is not designed to model FI with fluids other than CO2 at this time, or those in phases other than olivine. It is based on the model of Wanamaker and Evans, 1989.\n",
    "- In this example from the RelaxiFI documentation, based on the work from DeVitre and Wieser, 2023 (EarthArXiv), we model the stretching of two CO2 dominated fluid inclusions with 1 and 20 μm radii, trapped at South Caldera Reservoir (Kilaeua volcano, Hawaii) and stored at Halema'uma'u reservoir for 2 years."
   ]
  },
  {
   "cell_type": "markdown",
   "metadata": {},
   "source": [
    "## First, make sure CoolProp is installed if using the Span and Wagner 1996 equation of state\n",
    "- You only need to run this once. If you do not wish to use CoolProp, or face installation problems, please use 'SP94' instead of 'SW96'\n",
    "- If you have Python installed through Anaconda, you may want to install CoolProp through your conda command line 'conda install conda-forge::coolprop'. Else you can use 'pip install CoolProp' as below. "
   ]
  },
  {
   "cell_type": "code",
   "execution_count": 2,
   "metadata": {},
   "outputs": [],
   "source": [
    "#pip install CoolProp"
   ]
  },
  {
   "cell_type": "markdown",
   "metadata": {},
   "source": [
    "## Next import the necessary packages, including DiadFit"
   ]
  },
  {
   "cell_type": "code",
   "execution_count": 3,
   "metadata": {},
   "outputs": [
    {
     "data": {
      "text/plain": [
       "'1.0.8'"
      ]
     },
     "execution_count": 3,
     "metadata": {},
     "output_type": "execute_result"
    }
   ],
   "source": [
    "import pandas as pd\n",
    "import numpy as np\n",
    "import matplotlib.pyplot as plt\n",
    "import DiadFit as pf\n",
    "pf.__version__"
   ]
  },
  {
   "cell_type": "code",
   "execution_count": 4,
   "metadata": {},
   "outputs": [],
   "source": [
    "from scipy.optimize import fsolve\n",
    "import numpy as np\n",
    "import pandas as pd\n",
    "\n",
    "def invert_denlinger_lerner(D):\n",
    "    \"\"\"\n",
    "    Inverts the denlinger_lerner function to calculate pressure from depth.\n",
    "\n",
    "    Parameters\n",
    "    -------------\n",
    "    D: int, float, pd.Series\n",
    "        Depth in km\n",
    "\n",
    "    Returns\n",
    "    -------------\n",
    "    Pressure in kbar (same datatype as input)\n",
    "    \"\"\"\n",
    "\n",
    "    def equation(P_kbar, D):\n",
    "        # Original cubic equation for depth\n",
    "        return 0.0684 * P_kbar**3 - 0.5008 * P_kbar**2 + 4.47 * P_kbar - D\n",
    "\n",
    "    def solve_for_P(D_val):\n",
    "        if D_val > 15:  # No solution for depth > 15 km\n",
    "            return np.nan\n",
    "        # Initial guess for fsolve\n",
    "        initial_guess = 1.0\n",
    "        P_solution = fsolve(equation, initial_guess, args=(D_val))\n",
    "        return P_solution[0]\n",
    "\n",
    "    if isinstance(D, pd.Series):\n",
    "        return D.apply(solve_for_P)\n",
    "    else:\n",
    "        return solve_for_P(D)\n",
    "\n"
   ]
  },
  {
   "cell_type": "code",
   "execution_count": 5,
   "metadata": {},
   "outputs": [],
   "source": [
    "Pressure_at_Base=invert_denlinger_lerner(15)\n",
    "Pressure_to_solve=6-Pressure_at_Base\n",
    "\n"
   ]
  },
  {
   "cell_type": "code",
   "execution_count": 6,
   "metadata": {},
   "outputs": [
    {
     "data": {
      "text/plain": [
       "0    20.566162\n",
       "dtype: float64"
      ]
     },
     "execution_count": 6,
     "metadata": {},
     "output_type": "execute_result"
    }
   ],
   "source": [
    "Depth_to_add=pf.convert_pressure_to_depth(P_kbar=Pressure_to_solve, crust_dens_kgm3=3300, g=9.81)\n",
    "Depth_tot=Depth_to_add+15\n",
    "Depth_tot"
   ]
  },
  {
   "cell_type": "code",
   "execution_count": 7,
   "metadata": {},
   "outputs": [],
   "source": [
    "# So Gaffney say 6 kbar\n",
    "# The denlinger model is calibrated down to 15 km. "
   ]
  },
  {
   "cell_type": "markdown",
   "metadata": {},
   "source": [
    "## Now let's model stretching and evaluate how density, pressure and radius change\n",
    "- We model an FI (5 um) coming from South Caldera (SC) reservoir (4km@ 1300 C) and stalling at Halema'uma'u (HM) reservoir (1km @ 1150 C)\n"
   ]
  },
  {
   "cell_type": "markdown",
   "metadata": {},
   "source": [
    "### First, set the PT conditions of the reservoirs"
   ]
  },
  {
   "cell_type": "code",
   "execution_count": 8,
   "metadata": {},
   "outputs": [
    {
     "data": {
      "text/plain": [
       "20.566162215605267"
      ]
     },
     "execution_count": 8,
     "metadata": {},
     "output_type": "execute_result"
    }
   ],
   "source": [
    "Depth_tot[0]"
   ]
  },
  {
   "cell_type": "code",
   "execution_count": 9,
   "metadata": {},
   "outputs": [],
   "source": [
    "####### Establish reservoir PTX conditions\n",
    "\n",
    "## Choose an equation of state and crustal density model for the calculations\n",
    "EOS='SW96'\n",
    "crustal_model_config=pf.config_crustalmodel(model='ryan_lerner') # this configures the crustal model to be used\n",
    "\n",
    "## SC reservoir conditions\n",
    "Trapping_depth = Depth_tot[0] # Average depth of the South Caldera reservoir in km\n",
    "melt_MgO=13 #melt MgO in wt% \n",
    "Trapping_temp=round(21.2*melt_MgO+1017,-1)  # Temperature in C at South Caldera reservoir (MgO thermometry, see DeVitre and Wieser, 2023, Shea 2022)\n",
    "# find pressure @ SC\n",
    "tolerance = 0.001 # How close we want to be to the target pressure\n",
    "Trapping_pressure =6 #  \n",
    "\n",
    "## HM reservoir conditions\n",
    "Storage_depth = 3 # Average depth of the Halema'uma'u reservoir in km\n",
    "melt_MgO=6.5 #melt MgO in wt%\n",
    "Storage_temp=round(21.2*melt_MgO+1017,-1)  # Temperature in C at Halema'uma'u reservoir (MgO thermometry)\n",
    "# find pressure @ HM\n",
    "tolerance = 0.01 # How close we want to be to the target pressure\n",
    "Storage_pressure = pf.find_P_for_kmdepth(target_depth_km=Storage_depth, \n",
    "                            crustal_model_config=crustal_model_config, tolerance=tolerance)[0] #This is the calculated pressure at Halema'uma'u reservoir\n",
    "\n"
   ]
  },
  {
   "cell_type": "code",
   "execution_count": 10,
   "metadata": {},
   "outputs": [
    {
     "data": {
      "text/plain": [
       "1150.0"
      ]
     },
     "execution_count": 10,
     "metadata": {},
     "output_type": "execute_result"
    }
   ],
   "source": [
    "Storage_temp"
   ]
  },
  {
   "cell_type": "code",
   "execution_count": 11,
   "metadata": {},
   "outputs": [
    {
     "data": {
      "text/plain": [
       "0.6834124545503082"
      ]
     },
     "execution_count": 11,
     "metadata": {},
     "output_type": "execute_result"
    }
   ],
   "source": [
    "Storage_pressure"
   ]
  },
  {
   "cell_type": "code",
   "execution_count": 12,
   "metadata": {},
   "outputs": [
    {
     "data": {
      "text/plain": [
       "0.21729066945164116"
      ]
     },
     "execution_count": 12,
     "metadata": {},
     "output_type": "execute_result"
    }
   ],
   "source": [
    "\n",
    "pf.calculate_rho_for_P_T(EOS=EOS,P_kbar=Storage_pressure,T_K=Storage_temp+273.15)[0]\n"
   ]
  },
  {
   "cell_type": "markdown",
   "metadata": {},
   "source": [
    "### Next, Calculate CO2 density (trapped at SC) and internal pressure adjusted to HM reservoir"
   ]
  },
  {
   "cell_type": "code",
   "execution_count": 13,
   "metadata": {},
   "outputs": [],
   "source": [
    "### First let's calculate the CO2 density of our 5um FI trapped at SC\n",
    "fi_rho_initial_gcm3=pf.calculate_rho_for_P_T(EOS=EOS,P_kbar=Trapping_pressure,T_K=Trapping_temp+273.15)[0]\n",
    "\n",
    "## Now we move the FI to HM reservoir (1km), Pinternal will change bc T is lower than at SC, we recalculate Pinternal\n",
    "fi_Pi_storage_initial_MPa=pf.calculate_P_for_rho_T(EOS=EOS,CO2_dens_gcm3=fi_rho_initial_gcm3,T_K=Storage_temp+273.15)['P_MPa'][0]\n"
   ]
  },
  {
   "cell_type": "markdown",
   "metadata": {},
   "source": [
    "### With that, set the initial internal pressure for the model and external pressure (HM)"
   ]
  },
  {
   "cell_type": "code",
   "execution_count": 14,
   "metadata": {},
   "outputs": [],
   "source": [
    "Pinternal=fi_Pi_storage_initial_MPa # Internal pressure of the FI in MPa\n",
    "Pexternal=Storage_pressure*100 ## External Pressure in the HM reservoir in MPa "
   ]
  },
  {
   "cell_type": "markdown",
   "metadata": {},
   "source": [
    "### Set stalling time (2 years), FI radii (here 1 um and 20 um), and distances from crystal defects (cracks, rims)"
   ]
  },
  {
   "cell_type": "code",
   "execution_count": 15,
   "metadata": {},
   "outputs": [],
   "source": [
    "# Set stalling time\n",
    "years=10 # choose number of years for stalling\n",
    "totaltime=years*365.25*24*60*60 # this is the totaltime of stalling in s (must be in seconds for model calculations)\n",
    "\n",
    "# Set the FI radius (meters)\n",
    "R0 = 1.5 * 10 ** -6 # FI radius in m, here 1 micron #this is the minimum\n",
    "R1 = 30 * 10 ** -6 # FI radius in m, here 1 micron # this is the median size\n",
    "R2 = 8 * 10 ** -6 # FI radius in m, here 1 micron\n",
    "# The 16th quantile (halfed) from the linear intercept distances is 36 um, median = 83, and upper 84th quantile = 152\n",
    "dist2defect_list=[100, 200] # Distances to crystal defect structures (cracks, rim) in microns\n",
    "\n",
    "R_values = [R0,R1, R2]  # Define R values, if there is more than one R, add them to the list. \n",
    "b_values=[b*10**-6 for b in dist2defect_list] # make sure the bvalues are in meters. \n",
    "\n"
   ]
  },
  {
   "cell_type": "markdown",
   "metadata": {},
   "source": [
    "### Choose calculation parameters"
   ]
  },
  {
   "cell_type": "code",
   "execution_count": 16,
   "metadata": {},
   "outputs": [],
   "source": [
    "method='RK1' # this is the numerical solver, options are RK1, RK2, RK3 and RK4 (RK1 is the same as Euler method, RK2 same as Heun)\n",
    "steps=3000 #number of steps, more is better but slower"
   ]
  },
  {
   "cell_type": "code",
   "execution_count": 17,
   "metadata": {},
   "outputs": [
    {
     "name": "stdout",
     "output_type": "stream",
     "text": [
      "544.27272717941\n",
      "68.34124545503082\n"
     ]
    }
   ],
   "source": [
    "print(Pinternal)\n",
    "print(Pexternal)"
   ]
  },
  {
   "cell_type": "markdown",
   "metadata": {},
   "source": [
    "### Now let's run the model "
   ]
  },
  {
   "cell_type": "code",
   "execution_count": 18,
   "metadata": {},
   "outputs": [
    {
     "name": "stdout",
     "output_type": "stream",
     "text": [
      "Reducing step size, as pressure change was more than 0.5%.\n",
      "Reducing step size, as pressure change was more than 0.5%.\n",
      "Reducing step size, as pressure change was more than 0.5%.\n",
      "Reducing step size, as pressure change was more than 0.5%.\n",
      "Reducing step size, as pressure change was more than 0.5%.\n",
      "Reducing step size, as pressure change was more than 0.5%.\n",
      "Reducing step size, as pressure change was more than 0.5%.\n",
      "Reducing step size, as pressure change was more than 0.5%.\n",
      "Reducing step size, as pressure change was more than 0.5%.\n",
      "Reducing step size, as pressure change was more than 0.5%.\n",
      "Reducing step size, as pressure change was more than 0.5%.\n",
      "Reducing step size, as pressure change was more than 0.5%.\n",
      "Reducing step size, as pressure change was more than 0.5%.\n",
      "Reducing step size, as pressure change was more than 0.5%.\n",
      "Reducing step size, as pressure change was more than 0.5%.\n",
      "Reducing step size, as pressure change was more than 0.5%.\n",
      "Reducing step size, as pressure change was more than 0.5%.\n",
      "Reducing step size, as pressure change was more than 0.5%.\n",
      "Reducing step size, as pressure change was more than 0.5%.\n",
      "Reducing step size, as pressure change was more than 0.5%.\n",
      "Reducing step size, as pressure change was more than 0.5%.\n",
      "Reducing step size, as pressure change was more than 0.5%.\n",
      "Reducing step size, as pressure change was more than 0.5%.\n",
      "Reducing step size, as pressure change was more than 0.5%.\n",
      "Reducing step size, as pressure change was more than 0.5%.\n",
      "Reducing step size, as pressure change was more than 0.5%.\n",
      "Reducing step size, as pressure change was more than 0.5%.\n",
      "Reducing step size, as pressure change was more than 0.5%.\n",
      "Reducing step size, as pressure change was more than 0.5%.\n",
      "Reducing step size, as pressure change was more than 0.5%.\n",
      "Reducing step size, as pressure change was more than 0.5%.\n",
      "Reducing step size, as pressure change was more than 0.5%.\n",
      "Reducing step size, as pressure change was more than 0.5%.\n",
      "Reducing step size, as pressure change was more than 0.5%.\n",
      "Reducing step size, as pressure change was more than 0.5%.\n",
      "Reducing step size, as pressure change was more than 0.5%.\n",
      "Reducing step size, as pressure change was more than 0.5%.\n",
      "Reducing step size, as pressure change was more than 0.5%.\n",
      "Reducing step size, as pressure change was more than 0.5%.\n",
      "Reducing step size, as pressure change was more than 0.5%.\n",
      "Reducing step size, as pressure change was more than 0.5%.\n",
      "Reducing step size, as pressure change was more than 0.5%.\n",
      "Reducing step size, as pressure change was more than 0.5%.\n",
      "Reducing step size, as pressure change was more than 0.5%.\n",
      "Reducing step size, as pressure change was more than 0.5%.\n",
      "Reducing step size, as pressure change was more than 0.5%.\n",
      "Reducing step size, as pressure change was more than 0.5%.\n",
      "Reducing step size, as pressure change was more than 0.5%.\n",
      "Reducing step size, as pressure change was more than 0.5%.\n",
      "Reducing step size, as pressure change was more than 0.5%.\n",
      "Reducing step size, as pressure change was more than 0.5%.\n",
      "Reducing step size, as pressure change was more than 0.5%.\n",
      "Reducing step size, as pressure change was more than 0.5%.\n",
      "Reducing step size, as pressure change was more than 0.5%.\n",
      "Reducing step size, as pressure change was more than 0.5%.\n",
      "Reducing step size, as pressure change was more than 0.5%.\n",
      "Reducing step size, as pressure change was more than 0.5%.\n",
      "Reducing step size, as pressure change was more than 0.5%.\n",
      "Reducing step size, as pressure change was more than 0.5%.\n",
      "Reducing step size, as pressure change was more than 0.5%.\n",
      "Reducing step size, as pressure change was more than 0.5%.\n",
      "Reducing step size, as pressure change was more than 0.5%.\n",
      "Reducing step size, as pressure change was more than 0.5%.\n",
      "Reducing step size, as pressure change was more than 0.5%.\n",
      "Reducing step size, as pressure change was more than 0.5%.\n",
      "Reducing step size, as pressure change was more than 0.5%.\n",
      "Reducing step size, as pressure change was more than 0.5%.\n"
     ]
    }
   ],
   "source": [
    "results_dict_Exp = pf.loop_R_b_constant_Pext(R_m_values=R_values, b_m_values=b_values, T_K=Storage_temp+273.15, EOS=EOS, Pinternal_MPa=Pinternal, Pexternal_MPa=Pexternal, \n",
    "                                                    totaltime_s=totaltime, steps=steps, T4endcalc_PD=Trapping_temp,method=method,\n",
    "                                              plotfig=False,crustal_model_config=crustal_model_config, step_type='exponential', max_perc_change=0.5)"
   ]
  },
  {
   "cell_type": "code",
   "execution_count": 19,
   "metadata": {},
   "outputs": [],
   "source": [
    "results_dict_Exp_small = pf.loop_R_b_constant_Pext(R_m_values=[R1], b_m_values=b_values, T_K=Storage_temp+273.15, EOS=EOS, Pinternal_MPa=Pinternal, Pexternal_MPa=Pexternal, \n",
    "                                                    totaltime_s=totaltime, steps=10000, T4endcalc_PD=Trapping_temp,method=method,\n",
    "                                              plotfig=False,crustal_model_config=crustal_model_config, step_type='exponential', max_perc_change=0.5)"
   ]
  },
  {
   "cell_type": "markdown",
   "metadata": {},
   "source": [
    "## Load timescales to plot"
   ]
  },
  {
   "cell_type": "code",
   "execution_count": 20,
   "metadata": {},
   "outputs": [],
   "source": [
    "K23=pd.read_excel(r'C:\\Users\\penny\\Box\\Berkeley_new\\Raman\\MaunaLoa\\MaunaLoaTimescales_literature.xlsx', sheet_name='Kahl2023')\n",
    "C22=pd.read_excel(r'C:\\Users\\penny\\Box\\Berkeley_new\\Raman\\MaunaLoa\\MaunaLoaTimescales_literature.xlsx', sheet_name='Couperthwaite2022')\n",
    "C20=pd.read_excel(r'C:\\Users\\penny\\Box\\Berkeley_new\\Raman\\MaunaLoa\\MaunaLoaTimescales_literature.xlsx', sheet_name='Couperthwaite2020')\n",
    "L24=pd.read_excel(r'C:\\Users\\penny\\Box\\Berkeley_new\\Raman\\MaunaLoa\\MaunaLoaTimescales_literature.xlsx', sheet_name='Lynn2024')"
   ]
  },
  {
   "cell_type": "markdown",
   "metadata": {},
   "source": [
    "## Load Pressures to plot"
   ]
  },
  {
   "cell_type": "code",
   "execution_count": 31,
   "metadata": {},
   "outputs": [],
   "source": [
    "Pressures=pd.read_excel('MaunaLoaTimescales_literature.xlsx', sheet_name='Pressures')\n",
    "data1=Pressures['P_kbar_xenoliths']\n",
    "data2=Pressures['P_kbar_extrusives']\n",
    "\n",
    "\n",
    "# Concatenate into a single Series\n",
    "data = pd.concat([data1, data2], ignore_index=True)\n",
    "\n",
    "# Create a DataFrame with the combined data\n",
    "df_p = pd.DataFrame({'P(kbar)_HC': data})"
   ]
  },
  {
   "cell_type": "markdown",
   "metadata": {},
   "source": []
  },
  {
   "cell_type": "code",
   "execution_count": 32,
   "metadata": {},
   "outputs": [
    {
     "data": {
      "image/png": "[encoded data removed]",
      "text/plain": [
       "<Figure size 800x500 with 4 Axes>"
      ]
     },
     "metadata": {},
     "output_type": "display_data"
    }
   ],
   "source": [
    "################## Now let's plot our results ######################\n",
    "\n",
    "time2years=totaltime/years\n",
    "\n",
    "# Define some constants and variables\n",
    "\n",
    "y_col = 'Pinternal(MPa)'\n",
    "x_col = 'Time(s)'\n",
    "xlabel4plot = 'Time (years)'\n",
    "ylabel4plot = 'Internal Pressure (kbar)'\n",
    "twinlabel4plot = 'Deviation from Entrapment Pressure (%)'\n",
    "linecolor = 'magenta'\n",
    "linecolor3='darkred'\n",
    "linecolor2 = 'black'\n",
    "linewidth = 1\n",
    "\n",
    "# Create a figure and axes\n",
    "\n",
    "\n",
    "\n",
    "fig, ((ax3a, deadspace), (ax, ax2_hist)) = plt.subplots(\n",
    "    2, 2, figsize=(8, 5), \n",
    "    gridspec_kw={'width_ratios': [3, 0.6], 'height_ratios': [0.6, 3, ], 'wspace': 0.01, 'hspace': 0.01}, \n",
    ")\n",
    "\n",
    "ax2_hist.axes.get_xaxis().set_visible(False)\n",
    "ax2_hist.axes.get_yaxis().set_visible(False)\n",
    "ax2_hist.axis(\"off\")\n",
    "\n",
    "deadspace.axes.get_xaxis().set_visible(False)\n",
    "deadspace.axes.get_yaxis().set_visible(False)\n",
    "deadspace.axis(\"off\")\n",
    "\n",
    "\n",
    "bins = np.linspace(0, 5, num=50)  # Adjust 'num' for the number of bins\n",
    "\n",
    "\n",
    "ax3a.hist(K23['Timescale  (days)']/365, bins=bins, edgecolor='darkred', linewidth=1, histtype='step')\n",
    "ax3a.hist(C22['Timescale (days)']/365, bins=bins, edgecolor='blue', linewidth=1, histtype='step')\n",
    "ax3a.hist(C20['Timescale(days)']/365, bins=bins, edgecolor='cyan', linewidth=1, histtype='step')\n",
    "ax3a.hist(L24['Timescale (Median)']/365, bins=bins, edgecolor='k', linewidth=1, histtype='step')\n",
    "# Plot the data on the primary y-axis\n",
    "\n",
    "ax.plot(results_dict_Exp['R0']['b0'][x_col] /time2years, results_dict_Exp['R0']['b0'][y_col]/100, color=linecolor2, linestyle=':', linewidth=linewidth, label=str(dist2defect_list[0]))\n",
    "ax.plot(results_dict_Exp['R0']['b1'][x_col] /time2years, results_dict_Exp['R0']['b1'][y_col]/100, color=linecolor2, linestyle='-.', linewidth=linewidth, label=str(dist2defect_list[1]))\n",
    "\n",
    "ax.plot(results_dict_Exp_small['R0']['b0'][x_col] /time2years, results_dict_Exp_small['R0']['b0'][y_col]/100, color=linecolor, linestyle=':', linewidth=linewidth)\n",
    "ax.plot(results_dict_Exp_small['R0']['b1'][x_col] /time2years, results_dict_Exp_small['R0']['b1'][y_col]/100, color=linecolor, linestyle='-.', linewidth=linewidth)\n",
    "\n",
    "ax.plot(results_dict_Exp['R2']['b0'][x_col] /time2years, results_dict_Exp['R2']['b0'][y_col]/100, color=linecolor3, linestyle=':', linewidth=linewidth)\n",
    "ax.plot(results_dict_Exp['R2']['b1'][x_col] /time2years, results_dict_Exp['R2']['b1'][y_col]/100, color=linecolor3, linestyle='-.', linewidth=linewidth)\n",
    "\n",
    "\n",
    "\n",
    "\n",
    "xlim=([round(min(results_dict_Exp['R1']['b0'][x_col]/time2years)),round(max(results_dict_Exp['R1']['b0'][x_col]/time2years))])\n",
    "ymin=np.nanmin([np.nanmin(results_dict_Exp['R1']['b0'][y_col])])\n",
    "\n",
    "ylim=[ymin,fi_rho_initial_gcm3]\n",
    "\n",
    "ylim_P=pf.calculate_P_for_rho_T(EOS=EOS,CO2_dens_gcm3=pd.Series(ylim),T_K=Trapping_temp+273.15)['P_MPa']\n",
    "\n",
    "ax2_hist.hist(df_FI_Gaff['P(kbar)_HC'], orientation='horizontal', edgecolor='grey', linewidth=1, histtype='step')\n",
    "ax2_hist.hist(df_FI_ML['P(kbar)_HC'], orientation='horizontal', edgecolor='green', linewidth=1, histtype='step')\n",
    "\n",
    "# Customize axis labels and legends\n",
    "\n",
    "ax.set_xlabel(xlabel4plot)\n",
    "ax.set_ylabel(ylabel4plot)\n",
    "\n",
    "\n",
    "#ax.legend(title='Distance to crystal defect (μm)')\n",
    "\n",
    "ax.plot([0, 5], [Storage_pressure, Storage_pressure], ':', color='grey')\n",
    "ax.plot([0, 5], [Trapping_pressure, Trapping_pressure], ':', color='grey')\n",
    "\n",
    "ax.set_xlim([0, 5])\n",
    "ax3a.set_xlim([0, 5])\n",
    "\n",
    "ax3a.axes.get_xaxis().set_visible(False)\n",
    "ax3a.axes.get_yaxis().set_visible(False)\n",
    "ax3a.set_xlim([0, 5])\n",
    "ax3a.set_xlim([0, 5])\n",
    "ax3a.axis(\"off\")\n",
    "\n",
    "ax.set_ylim([0, 6.1])\n",
    "ax2_hist.set_ylim([0, 6.1])\n",
    "\n",
    "fig.savefig('MaunaLoa_Reeq.png', dpi=300)"
   ]
  },
  {
   "cell_type": "code",
   "execution_count": null,
   "metadata": {},
   "outputs": [
    {
     "data": {
      "text/plain": [
       "0     0.734286\n",
       "1     0.756978\n",
       "2     0.766303\n",
       "3     0.710009\n",
       "4     0.726715\n",
       "        ...   \n",
       "75    0.558153\n",
       "76    0.645260\n",
       "77    0.496399\n",
       "78    0.663104\n",
       "79    1.023090\n",
       "Name: P(kbar)_HC, Length: 77, dtype: float64"
      ]
     },
     "execution_count": 22,
     "metadata": {},
     "output_type": "execute_result"
    }
   ],
   "source": [
    "df_FI_Gaff['P(kbar)_HC'].loc[~(df_FI_Gaff['eruption']=='7360')]"
   ]
  },
  {
   "cell_type": "markdown",
   "metadata": {},
   "source": [
    "## Lets try using a log scale for better visualizatoin of the early years"
   ]
  },
  {
   "cell_type": "code",
   "execution_count": 33,
   "metadata": {},
   "outputs": [
    {
     "data": {
      "image/png": "[encoded data removed]",
      "text/plain": [
       "<Figure size 800x500 with 4 Axes>"
      ]
     },
     "metadata": {},
     "output_type": "display_data"
    }
   ],
   "source": [
    "################## Now let's plot our results ######################\n",
    "\n",
    "time2years=totaltime/years\n",
    "\n",
    "# Define some constants and variables\n",
    "\n",
    "y_col = 'Pinternal(MPa)'\n",
    "x_col = 'Time(s)'\n",
    "xlabel4plot = 'Time (years)'\n",
    "ylabel4plot = 'Internal Pressure (kbar)'\n",
    "twinlabel4plot = 'Deviation from Entrapment Pressure (%)'\n",
    "linecolor = 'magenta'\n",
    "linecolor3='darkred'\n",
    "linecolor2 = 'black'\n",
    "linewidth = 1\n",
    "\n",
    "# Create a figure and axes\n",
    "\n",
    "\n",
    "\n",
    "fig, ((ax3a, deadspace), (ax, ax2_hist)) = plt.subplots(\n",
    "    2, 2, figsize=(8, 5), \n",
    "    gridspec_kw={'width_ratios': [3, 0.6], 'height_ratios': [0.6, 3, ], 'wspace': 0.01, 'hspace': 0.01}, \n",
    ")\n",
    "\n",
    "ax2_hist.axes.get_xaxis().set_visible(False)\n",
    "ax2_hist.axes.get_yaxis().set_visible(False)\n",
    "ax2_hist.axis(\"off\")\n",
    "\n",
    "deadspace.axes.get_xaxis().set_visible(False)\n",
    "deadspace.axes.get_yaxis().set_visible(False)\n",
    "deadspace.axis(\"off\")\n",
    "\n",
    "\n",
    "\n",
    "\n",
    "\n",
    "\n",
    "# Plot the data on the primary y-axis\n",
    "\n",
    "ax.plot(results_dict_Exp['R0']['b0'][x_col] /time2years, results_dict_Exp['R0']['b0'][y_col]/100, color=linecolor2, linestyle=':', linewidth=linewidth, label=str(dist2defect_list[0]))\n",
    "ax.plot(results_dict_Exp['R0']['b1'][x_col] /time2years, results_dict_Exp['R0']['b1'][y_col]/100, color=linecolor2, linestyle='-.', linewidth=linewidth, label=str(dist2defect_list[1]))\n",
    "\n",
    "# ax.plot(results_dict_Exp['R1']['b0'][x_col] /time2years, results_dict_Exp['R1']['b0'][y_col]/100, color=linecolor, linestyle=':', linewidth=linewidth)\n",
    "# ax.plot(results_dict_Exp['R1']['b1'][x_col] /time2years, results_dict_Exp['R1']['b1'][y_col]/100, color=linecolor, linestyle='-.', linewidth=linewidth)\n",
    "\n",
    "ax.plot(results_dict_Exp['R2']['b0'][x_col] /time2years, results_dict_Exp['R2']['b0'][y_col]/100, color=linecolor3, linestyle=':', linewidth=linewidth)\n",
    "ax.plot(results_dict_Exp['R2']['b1'][x_col] /time2years, results_dict_Exp['R2']['b1'][y_col]/100, color=linecolor3, linestyle='-.', linewidth=linewidth)\n",
    "\n",
    "\n",
    "ax.plot(results_dict_Exp_small['R0']['b0'][x_col] /time2years, results_dict_Exp_small['R0']['b0'][y_col]/100, color=linecolor, linestyle=':', linewidth=linewidth)\n",
    "ax.plot(results_dict_Exp_small['R0']['b1'][x_col] /time2years, results_dict_Exp_small['R0']['b1'][y_col]/100, color=linecolor, linestyle='-.', linewidth=linewidth)\n",
    "\n",
    "\n",
    "\n",
    "\n",
    "\n",
    "xlim=([round(min(results_dict_Exp['R1']['b0'][x_col]/time2years)),round(max(results_dict_Exp['R1']['b0'][x_col]/time2years))])\n",
    "ymin=np.nanmin([np.nanmin(results_dict_Exp['R1']['b0'][y_col])])\n",
    "\n",
    "ylim=[ymin,fi_rho_initial_gcm3]\n",
    "\n",
    "ylim_P=pf.calculate_P_for_rho_T(EOS=EOS,CO2_dens_gcm3=pd.Series(ylim),T_K=Trapping_temp+273.15)['P_MPa']\n",
    "\n",
    "## This is the pressures. \n",
    "\n",
    "array_xenolith=df_FI_Gaff['P(kbar)_HC'].loc[~(df_FI_Gaff['eruption']=='7360')]\n",
    "\n",
    "\n",
    "array_historic=pd.concat([df_FI_Gaff['P(kbar)_HC'].loc[df_FI_Gaff['eruption']=='7360'],\n",
    "                     df_FI_ML['P(kbar)_HC']]\n",
    "                     )\n",
    "\n",
    "\n",
    "\n",
    "\n",
    "ax2_hist.hist(array_historic, orientation='horizontal', edgecolor='green', linewidth=1, histtype='step')\n",
    "ax2_hist.hist(array_xenolith, orientation='horizontal', edgecolor='grey', linewidth=1, histtype='step')\n",
    "\n",
    "# Customize axis labels and legends\n",
    "\n",
    "ax.set_xlabel(xlabel4plot)\n",
    "ax.set_ylabel(ylabel4plot)\n",
    "\n",
    "\n",
    "#ax.legend(title='Distance to crystal defect (μm)')\n",
    "\n",
    "ax.plot([0, 10], [Storage_pressure, Storage_pressure], ':', color='grey')\n",
    "ax.plot([0, 10], [Trapping_pressure, Trapping_pressure], ':', color='grey')\n",
    "\n",
    "ax.set_xlim([0, 5])\n",
    "ax3a.set_xlim([0, 5])\n",
    "\n",
    "ax3a.axes.get_xaxis().set_visible(False)\n",
    "ax3a.axes.get_yaxis().set_visible(False)\n",
    "ax3a.set_xlim([0, 5])\n",
    "ax3a.set_xlim([0, 5])\n",
    "ax3a.axis(\"off\")\n",
    "\n",
    "ax.set_ylim([0, 6.1])\n",
    "ax2_hist.set_ylim([0, 6.1])\n",
    "\n",
    "## Lets plot the timescales as dots\n",
    "\n",
    "# ax3a.hist(K23['Timescale  (days)']/365, bins=bins, edgecolor='darkred', linewidth=1, histtype='step')\n",
    "# ax3a.hist(C22['Timescale (days)']/365, bins=bins, edgecolor='blue', linewidth=1, histtype='step')\n",
    "# ax3a.hist(C20['Timescale(days)']/365, bins=bins, edgecolor='cyan', linewidth=1, histtype='step')\n",
    "# ax3a.hist(L24['Timescale (Median)']/365, bins=bins, edgecolor='k', linewidth=1, histtype='step')\n",
    "ms1=3\n",
    "ax3a.plot(L24['Timescale (Median)']/365, L24['Timescale (Median)']/365*0+18, 'x',ms=ms1,  color='k', label='2024')\n",
    "ax3a.plot(K23['Timescale  (days)']/365, K23['Timescale  (days)']/365*0+15, 'x',  ms=ms1, color='darkred', label='1950')\n",
    "ax3a.plot(C22['Timescale (days)']/365, C22['Timescale (days)']/365*0+12, 'x', ms=ms1, color='blue', label='240')\n",
    "ax3a.plot(C20['Timescale(days)']/365, C20['Timescale(days)']/365*0+9, 'x',ms=ms1,  color='cyan', label='2.1 ka')\n",
    "\n",
    "Allt=np.concatenate([K23['Timescale  (days)'].values/365,C22['Timescale (days)'].values/365, C20['Timescale(days)'].values/365, L24['Timescale (Median)'].values/365 ])\n",
    "ax3a.plot(np.nanmedian(Allt), 3.5, '*k', mfc='yellow', ms=10)\n",
    "ax3a.set_ylim([0.8, 30])\n",
    "bins = np.logspace(np.log10(min(Allt)), np.log10(max(Allt)), 30)  # 50 bins\n",
    "\n",
    "ax3a.hist(Allt, bins=bins, edgecolor='grey', linewidth=1, histtype='step')\n",
    "\n",
    "# Lets plot 24 hrs\n",
    "ax.plot([1/365, 1/365], [0, 6.1], '-', color='grey')\n",
    "ax.plot([np.nanmedian(Allt), np.nanmedian(Allt)], [0, 6.1], '-', color='yellow')\n",
    "ax.set_xscale('log')\n",
    "ax3a.set_xscale('log')\n",
    "ax.set_xlim([0.0001, 10])\n",
    "ax3a.set_xlim([0.0001, 10])\n",
    "fig.savefig('MaunaLoa_Reeqlog.png', transparent=True, dpi=300)"
   ]
  }
 ],
 "metadata": {
  "kernelspec": {
   "display_name": "base",
   "language": "python",
   "name": "python3"
  },
  "language_info": {
   "codemirror_mode": {
    "name": "ipython",
    "version": 3
   },
   "file_extension": ".py",
   "mimetype": "text/x-python",
   "name": "python",
   "nbconvert_exporter": "python",
   "pygments_lexer": "ipython3",
   "version": "3.11.9"
  },
  "orig_nbformat": 4
 },
 "nbformat": 4,
 "nbformat_minor": 2
}
