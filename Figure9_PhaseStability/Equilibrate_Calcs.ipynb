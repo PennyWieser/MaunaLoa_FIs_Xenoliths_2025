{
 "cells": [
  {
   "cell_type": "markdown",
   "metadata": {},
   "source": [
    "# Equilibrium calculations with MELTS and MAGEMin"
   ]
  },
  {
   "cell_type": "markdown",
   "metadata": {},
   "source": [
    "The following notebook demonstrates how we performed equilibrium calculations using experimental compositions and conditions (P, T, X). Initial calculations were performed using the pMELTS, rhyolite-MELTS v1.0.2, and rhyolite-MELTS v1.2.0 thermodynamic models. These calculations are performed in Python using the PetThermoTools (v0.2.31) and alphaMELTS for Python (v2.3.1) packages. Detailed instructions for the installation of PetThermoTools and alphaMELTS for Python can be found on the PetThermoTools ReadtheDocs page (https://petthermotools.readthedocs.io/en/latest/Installation/InstallationScript.html). \n",
    "\n",
    "To assess the performance of other thermodynamic models calculations were also performed using the Holland et al. (2018), Green et al. (submitted), and Weller et al. (2024) thermodynamic models. This is achieved through the Julia packages MAGEMin_C (https://github.com/ComputationalThermodynamics/MAGEMin_C.jl) and the 'connector' package MAGEMinCalc (v0.4.0) which is designed to facilitate MAGEMin calculations from Python. For calculations performed using the Green et al. and Weller et al. thermodynamoc models we use MAGEMin_C v1.6.9, with an older version (v1.4.9 in this case) required to access the original Holland et al. 2018 thermodynamic model. As such, only calculations for the Green et al. and Weller et al. models are shown here."
   ]
  },
  {
   "cell_type": "code",
   "execution_count": 1,
   "metadata": {},
   "outputs": [
    {
     "data": {
      "text/plain": [
       "'0.2.31'"
      ]
     },
     "execution_count": 1,
     "metadata": {},
     "output_type": "execute_result"
    }
   ],
   "source": [
    "import numpy as np\n",
    "import pandas as pd\n",
    "import matplotlib.pyplot as plt\n",
    "import PetThermoTools as ptt\n",
    "import pickle\n",
    "import os\n",
    "import sys\n",
    "\n",
    "# this can be useful for visualizing the phase diagrams - hover over the plots to see the phase assemblage\n",
    "%matplotlib widget\n",
    "\n",
    "# this allows figures to be saved as svg files with the text preserved\n",
    "plt.rcParams['svg.fonttype'] = 'none'\n",
    "\n",
    "# check the version\n",
    "ptt.__version__\n"
   ]
  },
  {
   "cell_type": "markdown",
   "metadata": {},
   "source": [
    "Calculations performed using the alphaMELTS for Python package can produce a huge number of outputs that are all printed in the notebook if you are running a Mac. Run the following code twice to suppress these outputs."
   ]
  },
  {
   "cell_type": "code",
   "execution_count": 3,
   "metadata": {},
   "outputs": [],
   "source": [
    "#### Suppress extensive MELTS outputs, RUN TWICE ####\n",
    "sys.stdout = open(os.devnull, 'w')\n",
    "sys.stderr = open(os.devnull, 'w')"
   ]
  },
  {
   "cell_type": "markdown",
   "metadata": {},
   "source": [
    "If you want to perform calculations using the Green, Holland, or Weller thermodynamic models it is good to first check the pyjulia installation and compile the installed julia modules:"
   ]
  },
  {
   "cell_type": "code",
   "execution_count": 4,
   "metadata": {},
   "outputs": [],
   "source": [
    "import julia\n",
    "julia.install()\n",
    "from julia.api import Julia\n",
    "jl = Julia(compiled_modules=False)"
   ]
  },
  {
   "cell_type": "markdown",
   "metadata": {},
   "source": [
    "## Load experimental data\n",
    "This has already been filtered to include only values with known fO2."
   ]
  },
  {
   "cell_type": "code",
   "execution_count": 5,
   "metadata": {},
   "outputs": [],
   "source": [
    "Data = pd.read_excel('df_for_MELTS_H2O_fo2.xlsx')\n",
    "Data = Data.fillna(0.0)\n"
   ]
  },
  {
   "cell_type": "markdown",
   "metadata": {},
   "source": [
    "## Use Kress and Carmichael to convert fO2 into Fe3Fet ratios \n",
    "\n",
    "This will be used as input to the calculations rather than raw fO2 values or offsets from a buffer "
   ]
  },
  {
   "cell_type": "code",
   "execution_count": 6,
   "metadata": {},
   "outputs": [],
   "source": [
    "import Thermobar as pt\n",
    "Fe3Fet_Liq=pt.convert_fo2_to_fe_partition(liq_comps = Data.loc[:,['SiO2_Liq', 'TiO2_Liq', 'Al2O3_Liq', 'FeOt_Liq',\n",
    "                                                        'Cr2O3_Liq', 'MnO_Liq', 'MgO_Liq', 'CaO_Liq', \n",
    "                                                        'Na2O_Liq', 'K2O_Liq', 'P2O5_Liq', 'H2O_Liq']], T_K = Data['T_C']+273.15,\n",
    "                               P_kbar = Data['P_GPa']*10, fo2 = 10**Data['logfO2'],\n",
    "                               renorm=False, model = \"Kress1991\")['Fe3Fet_Liq']"
   ]
  },
  {
   "cell_type": "markdown",
   "metadata": {},
   "source": [
    "## Equilibrate calculations for each model\n",
    "\n",
    "In this cell block the code will produce an excel sheet for each thermodynamic model containing the calculation results."
   ]
  },
  {
   "cell_type": "code",
   "execution_count": 8,
   "metadata": {},
   "outputs": [
    {
     "data": {
      "application/vnd.jupyter.widget-view+json": {
       "model_id": "37a2ae49443d463ab2a9a73e209a4bd1",
       "version_major": 2,
       "version_minor": 0
      },
      "text/plain": [
       "  0%|          | 0/28 [00:00<?, ?it/s]"
      ]
     },
     "metadata": {},
     "output_type": "display_data"
    },
    {
     "data": {
      "application/vnd.jupyter.widget-view+json": {
       "model_id": "86fe36ff242540fe88f317de7357ffb9",
       "version_major": 2,
       "version_minor": 0
      },
      "text/plain": [
       "  0%|          | 0/28 [00:00<?, ?it/s]"
      ]
     },
     "metadata": {},
     "output_type": "display_data"
    },
    {
     "data": {
      "application/vnd.jupyter.widget-view+json": {
       "model_id": "a858d8f3925f440ab781c530d87961d0",
       "version_major": 2,
       "version_minor": 0
      },
      "text/plain": [
       "  0%|          | 0/28 [00:00<?, ?it/s]"
      ]
     },
     "metadata": {},
     "output_type": "display_data"
    }
   ],
   "source": [
    "model = [\"MELTSv1.2.0\", \"MELTSv1.0.2\", \"pMELTS\", \"Green2025\", \"Weller2024\"]\n",
    "for m in model:\n",
    "    Combined = ptt.equilibrate_multi(Model = m,\n",
    "                                    bulk = Data,\n",
    "                                    T_C = Data['T_C'].astype(float).values,\n",
    "                                    P_bar = Data['P_GPa'].astype(float).values*10000.0,\n",
    "                                    Fe3Fet_Liq= Fe3Fet_Liq.astype(float).values,\n",
    "                                    copy_columns=[\"Experiment\", \"Citation\"])\n",
    "    \n",
    "\n",
    "    with pd.ExcelWriter(m + '_filt_withfO2_H2O.xlsx', engine='xlsxwriter') as writer:\n",
    "        Combined.to_excel(writer, sheet_name='All Data', index=False)"
   ]
  }
 ],
 "metadata": {
  "kernelspec": {
   "display_name": "base",
   "language": "python",
   "name": "python3"
  },
  "language_info": {
   "codemirror_mode": {
    "name": "ipython",
    "version": 3
   },
   "file_extension": ".py",
   "mimetype": "text/x-python",
   "name": "python",
   "nbconvert_exporter": "python",
   "pygments_lexer": "ipython3",
   "version": "3.11.0"
  },
  "orig_nbformat": 4
 },
 "nbformat": 4,
 "nbformat_minor": 2
}
